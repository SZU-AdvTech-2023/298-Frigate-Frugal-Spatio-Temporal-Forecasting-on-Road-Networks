{
 "cells": [
  {
   "cell_type": "code",
   "execution_count": 1,
   "id": "7c298098",
   "metadata": {},
   "outputs": [],
   "source": [
    "import random\n",
    "import pickle\n",
    "import numpy as np\n",
    "import networkx as nx"
   ]
  },
  {
   "cell_type": "code",
   "execution_count": 2,
   "id": "7d87e0ad",
   "metadata": {},
   "outputs": [],
   "source": [
    "with open('graph_with_haversine.pkl','rb') as f:\n",
    "    g = pickle.load(f)"
   ]
  },
  {
   "cell_type": "code",
   "execution_count": 5,
   "id": "63a09d6e",
   "metadata": {},
   "outputs": [
    {
     "name": "stdout",
     "output_type": "stream",
     "text": [
      "__class__\n",
      "__contains__\n",
      "__delattr__\n",
      "__dict__\n",
      "__dir__\n",
      "__doc__\n",
      "__eq__\n",
      "__format__\n",
      "__ge__\n",
      "__getattribute__\n",
      "__getitem__\n",
      "__gt__\n",
      "__hash__\n",
      "__init__\n",
      "__init_subclass__\n",
      "__iter__\n",
      "__le__\n",
      "__len__\n",
      "__lt__\n",
      "__module__\n",
      "__ne__\n",
      "__new__\n",
      "__reduce__\n",
      "__reduce_ex__\n",
      "__repr__\n",
      "__setattr__\n",
      "__sizeof__\n",
      "__str__\n",
      "__subclasshook__\n",
      "__weakref__\n",
      "_adj\n",
      "_node\n",
      "_pred\n",
      "_succ\n",
      "add_edge\n",
      "add_edges_from\n",
      "add_node\n",
      "add_nodes_from\n",
      "add_weighted_edges_from\n",
      "adj\n",
      "adjacency\n",
      "adjlist_inner_dict_factory\n",
      "adjlist_outer_dict_factory\n",
      "clear\n",
      "clear_edges\n",
      "copy\n",
      "degree\n",
      "edge_attr_dict_factory\n",
      "edge_key_dict_factory\n",
      "edge_subgraph\n",
      "edges\n",
      "get_edge_data\n",
      "graph\n",
      "graph_attr_dict_factory\n",
      "has_edge\n",
      "has_node\n",
      "has_predecessor\n",
      "has_successor\n",
      "in_degree\n",
      "in_edges\n",
      "is_directed\n",
      "is_multigraph\n",
      "name\n",
      "nbunch_iter\n",
      "neighbors\n",
      "new_edge_key\n",
      "node_attr_dict_factory\n",
      "node_dict_factory\n",
      "nodes\n",
      "number_of_edges\n",
      "number_of_nodes\n",
      "order\n",
      "out_degree\n",
      "out_edges\n",
      "pred\n",
      "predecessors\n",
      "remove_edge\n",
      "remove_edges_from\n",
      "remove_node\n",
      "remove_nodes_from\n",
      "reverse\n",
      "size\n",
      "subgraph\n",
      "succ\n",
      "successors\n",
      "to_directed\n",
      "to_directed_class\n",
      "to_undirected\n",
      "to_undirected_class\n",
      "update\n"
     ]
    }
   ],
   "source": [
    "print('\\n'.join(dir(g)))"
   ]
  },
  {
   "cell_type": "code",
   "execution_count": 17,
   "id": "ac4fa806",
   "metadata": {
    "scrolled": false
   },
   "outputs": [
    {
     "name": "stdout",
     "output_type": "stream",
     "text": [
      "{'ij': (array([   0,    0,    0, ..., 3190, 3191, 3192], dtype=int32), array([   9,  544, 1018, ..., 2737,  962,  961], dtype=int32)), 'v': array([173.857,  20.517, 143.316, ...,  49.628,  79.14 ,  99.374]), 'shape': (3193, 3193)}\n"
     ]
    }
   ],
   "source": [
    "from scipy.sparse import coo_array\n",
    "\n",
    "with open('Chengdu/adj_mx.pkl','rb') as f:\n",
    "    d=pickle.load(f)\n",
    "\n",
    "print(d)\n",
    "a=coo_array((d['v'],d['ij']), shape=d['shape']).todense()"
   ]
  },
  {
   "cell_type": "code",
   "execution_count": 19,
   "id": "7c3a1d81",
   "metadata": {},
   "outputs": [
    {
     "name": "stdout",
     "output_type": "stream",
     "text": [
      "[173.857  20.517 143.316 ...  49.628  79.14   99.374]\n"
     ]
    }
   ],
   "source": [
    "print(a[np.nonzero(a)])"
   ]
  },
  {
   "cell_type": "code",
   "execution_count": 20,
   "id": "d2fcf7f5",
   "metadata": {},
   "outputs": [],
   "source": [
    "G = nx.DiGraph()\n",
    "G.add_nodes_from(range(a.shape[0]))\n",
    "for i in range(a.shape[0]):\n",
    "    for j in range(a.shape[0]):\n",
    "        if a[i,j] != 0:\n",
    "            G.add_edge(i, j, haversine=a[i,j])"
   ]
  },
  {
   "cell_type": "code",
   "execution_count": 23,
   "id": "d6135269",
   "metadata": {},
   "outputs": [
    {
     "data": {
      "text/plain": [
       "{'haversine': 173.857}"
      ]
     },
     "execution_count": 23,
     "metadata": {},
     "output_type": "execute_result"
    }
   ],
   "source": [
    "edge=list(G.edges)[0]\n",
    "G.edges[edge[0],edge[1]]"
   ]
  },
  {
   "cell_type": "code",
   "execution_count": null,
   "id": "25548037",
   "metadata": {},
   "outputs": [],
   "source": [
    "def f(k,v):\n",
    "    dic = {k:v}\n",
    "    return dic\n",
    "\n",
    "from multiprocessing import Process"
   ]
  }
 ],
 "metadata": {
  "kernelspec": {
   "display_name": "Python 3 (ipykernel)",
   "language": "python",
   "name": "python3"
  },
  "language_info": {
   "codemirror_mode": {
    "name": "ipython",
    "version": 3
   },
   "file_extension": ".py",
   "mimetype": "text/x-python",
   "name": "python",
   "nbconvert_exporter": "python",
   "pygments_lexer": "ipython3",
   "version": "3.10.4"
  }
 },
 "nbformat": 4,
 "nbformat_minor": 5
}
